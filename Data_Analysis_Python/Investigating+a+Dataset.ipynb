{
 "cells": [
  {
   "cell_type": "markdown",
   "metadata": {},
   "source": [
    "## Introduction"
   ]
  },
  {
   "cell_type": "markdown",
   "metadata": {},
   "source": [
    "The purpose of the project is to demonstrate the data analysis process particularly using Numpy and Pandas library of Python. I have used the Titanic Dataset.The dataset has information about 891 passangers. Data includes information about their survival, number of relatives aboard, class of travel, ticket number, Fare etc. \n",
    "\n",
    "Questions that I have attempted to address by this data analysis process are:\n",
    " - Was the survival related to gender of the passanger?\n",
    " - Was the survival related to class in which passanger was traveling?\n",
    " - Did having relatives aboard affect the survival?\n",
    " - Did Age of the passanger affect the survival?\n",
    " \n",
    "The questions stem from the intution. Thought process behind the questions has been summarized below:\n",
    " - Gender might affect the survival. Few of the reason I believe so includes the general belief that males have relatively higher physical strength. Second, during rescue operation, children and women might have given the priority. \n",
    " - People traveling in higher class might have more time to save themselves since they are at higher floor in the ship.\n",
    " - Having relatives with you might make someone more concerned about them and less independent in saving themselves.\n",
    " - Elders might find it difficult to get themselves evacuated. Similary, kids might not be able to help themselves much. There can be many reasons why age might affect the survival.\n",
    " "
   ]
  },
  {
   "cell_type": "code",
   "execution_count": 65,
   "metadata": {
    "collapsed": false,
    "scrolled": true
   },
   "outputs": [
    {
     "name": "stdout",
     "output_type": "stream",
     "text": [
      "<class 'pandas.core.frame.DataFrame'>\n",
      "RangeIndex: 891 entries, 0 to 890\n",
      "Data columns (total 12 columns):\n",
      "PassengerId    891 non-null int64\n",
      "Survived       891 non-null category\n",
      "Pclass         891 non-null category\n",
      "Name           891 non-null object\n",
      "Sex            891 non-null object\n",
      "Age            714 non-null float64\n",
      "SibSp          891 non-null int64\n",
      "Parch          891 non-null int64\n",
      "Ticket         891 non-null object\n",
      "Fare           891 non-null float64\n",
      "Cabin          204 non-null object\n",
      "Embarked       889 non-null object\n",
      "dtypes: category(2), float64(2), int64(3), object(5)\n",
      "memory usage: 71.5+ KB\n"
     ]
    },
    {
     "data": {
      "text/html": [
       "<div>\n",
       "<table border=\"1\" class=\"dataframe\">\n",
       "  <thead>\n",
       "    <tr style=\"text-align: right;\">\n",
       "      <th></th>\n",
       "      <th>PassengerId</th>\n",
       "      <th>Survived</th>\n",
       "      <th>Pclass</th>\n",
       "      <th>Name</th>\n",
       "      <th>Sex</th>\n",
       "      <th>Age</th>\n",
       "      <th>SibSp</th>\n",
       "      <th>Parch</th>\n",
       "      <th>Ticket</th>\n",
       "      <th>Fare</th>\n",
       "      <th>Cabin</th>\n",
       "      <th>Embarked</th>\n",
       "    </tr>\n",
       "  </thead>\n",
       "  <tbody>\n",
       "    <tr>\n",
       "      <th>0</th>\n",
       "      <td>1</td>\n",
       "      <td>0</td>\n",
       "      <td>3</td>\n",
       "      <td>Braund, Mr. Owen Harris</td>\n",
       "      <td>male</td>\n",
       "      <td>22.0</td>\n",
       "      <td>1</td>\n",
       "      <td>0</td>\n",
       "      <td>A/5 21171</td>\n",
       "      <td>7.2500</td>\n",
       "      <td>NaN</td>\n",
       "      <td>S</td>\n",
       "    </tr>\n",
       "    <tr>\n",
       "      <th>1</th>\n",
       "      <td>2</td>\n",
       "      <td>1</td>\n",
       "      <td>1</td>\n",
       "      <td>Cumings, Mrs. John Bradley (Florence Briggs Th...</td>\n",
       "      <td>female</td>\n",
       "      <td>38.0</td>\n",
       "      <td>1</td>\n",
       "      <td>0</td>\n",
       "      <td>PC 17599</td>\n",
       "      <td>71.2833</td>\n",
       "      <td>C85</td>\n",
       "      <td>C</td>\n",
       "    </tr>\n",
       "    <tr>\n",
       "      <th>2</th>\n",
       "      <td>3</td>\n",
       "      <td>1</td>\n",
       "      <td>3</td>\n",
       "      <td>Heikkinen, Miss. Laina</td>\n",
       "      <td>female</td>\n",
       "      <td>26.0</td>\n",
       "      <td>0</td>\n",
       "      <td>0</td>\n",
       "      <td>STON/O2. 3101282</td>\n",
       "      <td>7.9250</td>\n",
       "      <td>NaN</td>\n",
       "      <td>S</td>\n",
       "    </tr>\n",
       "    <tr>\n",
       "      <th>3</th>\n",
       "      <td>4</td>\n",
       "      <td>1</td>\n",
       "      <td>1</td>\n",
       "      <td>Futrelle, Mrs. Jacques Heath (Lily May Peel)</td>\n",
       "      <td>female</td>\n",
       "      <td>35.0</td>\n",
       "      <td>1</td>\n",
       "      <td>0</td>\n",
       "      <td>113803</td>\n",
       "      <td>53.1000</td>\n",
       "      <td>C123</td>\n",
       "      <td>S</td>\n",
       "    </tr>\n",
       "    <tr>\n",
       "      <th>4</th>\n",
       "      <td>5</td>\n",
       "      <td>0</td>\n",
       "      <td>3</td>\n",
       "      <td>Allen, Mr. William Henry</td>\n",
       "      <td>male</td>\n",
       "      <td>35.0</td>\n",
       "      <td>0</td>\n",
       "      <td>0</td>\n",
       "      <td>373450</td>\n",
       "      <td>8.0500</td>\n",
       "      <td>NaN</td>\n",
       "      <td>S</td>\n",
       "    </tr>\n",
       "  </tbody>\n",
       "</table>\n",
       "</div>"
      ],
      "text/plain": [
       "   PassengerId Survived Pclass  \\\n",
       "0            1        0      3   \n",
       "1            2        1      1   \n",
       "2            3        1      3   \n",
       "3            4        1      1   \n",
       "4            5        0      3   \n",
       "\n",
       "                                                Name     Sex   Age  SibSp  \\\n",
       "0                            Braund, Mr. Owen Harris    male  22.0      1   \n",
       "1  Cumings, Mrs. John Bradley (Florence Briggs Th...  female  38.0      1   \n",
       "2                             Heikkinen, Miss. Laina  female  26.0      0   \n",
       "3       Futrelle, Mrs. Jacques Heath (Lily May Peel)  female  35.0      1   \n",
       "4                           Allen, Mr. William Henry    male  35.0      0   \n",
       "\n",
       "   Parch            Ticket     Fare Cabin Embarked  \n",
       "0      0         A/5 21171   7.2500   NaN        S  \n",
       "1      0          PC 17599  71.2833   C85        C  \n",
       "2      0  STON/O2. 3101282   7.9250   NaN        S  \n",
       "3      0            113803  53.1000  C123        S  \n",
       "4      0            373450   8.0500   NaN        S  "
      ]
     },
     "execution_count": 65,
     "metadata": {},
     "output_type": "execute_result"
    }
   ],
   "source": [
    "# Numpy, Pandas, Matplotlib, os, math and scipy modules are imported\n",
    "import numpy as np\n",
    "import pandas as pd\n",
    "import matplotlib as mpl\n",
    "import matplotlib.pyplot as plt\n",
    "import os\n",
    "import statsmodels.graphics.mosaicplot as stat\n",
    "import math\n",
    "import scipy.stats as stats\n",
    "\n",
    "#Checked the current working directory and changed it to the location where dataset is located.\n",
    "os.getcwd()\n",
    "os.chdir(\"C:\\\\Users\\\\Trushit\\\\Desktop\\\\Trushit\\\\Udacity\\\\P2\")\n",
    "\n",
    "#imported dataset as pandas dataframe. dtype attribute is used to convert columns to appropriate datatype.\n",
    "titanic = pd.read_csv(\"titanic-data.csv\",dtype={ \"Pclass\":\"category\",\"Survived\":\"category\", \"Name\":\"str\",\"Ticket\":\"str\",\"Cabin\":\"str\",\"Embarked\":\"str\"})\n",
    "titanic.info()\n",
    "titanic.head()"
   ]
  },
  {
   "cell_type": "markdown",
   "metadata": {},
   "source": [
    "Info() method gave a bird eye view of the data. We can see that we have 150, 687 and 2 NULL entries in Age, Cabin and Embarked column respectively. We can also see that we have our variables in the desired type that we enforced using dtype attribute while importing the data.\n",
    "\n",
    "Missing values of the age variable might affect our analysis while answering question 4. There can be multiple reasons for the age data not be available such as missing the entry or passanger not mentioning their age at all. Age of the person cannot be approximated by methods such as averaging the values from near by colums or anything since it can be anything. Thus, we will ignore the rows corresponding to missing age values while performing the analysis to answer question 4. \n",
    "\n",
    "Cabin and Embarked variables are not expected to be the part of analysis. Thus, missing values for these variable does not affect our analysis."
   ]
  },
  {
   "cell_type": "markdown",
   "metadata": {},
   "source": [
    "## Visual Exploration of Data"
   ]
  },
  {
   "cell_type": "markdown",
   "metadata": {},
   "source": [
    "### Mosaic Plot for Gender and Survival "
   ]
  },
  {
   "cell_type": "code",
   "execution_count": 68,
   "metadata": {
    "collapsed": false
   },
   "outputs": [
    {
     "data": {
      "image/png": "[encoded data removed]",
      "text/plain": [
       "<matplotlib.figure.Figure at 0x16da53bbb38>"
      ]
     },
     "metadata": {},
     "output_type": "display_data"
    }
   ],
   "source": [
    "labelizer1 = lambda k: {(\"male\",\"0\"):\"Male - Died\",(\"male\",\"1\"):\"Male-Survived\",(\"female\",\"0\"):\"Female - Died\",(\"female\",\"1\"):\"Female - Survived\"}[k]\n",
    "stat.mosaic(titanic,['Sex','Survived'],labelizer = labelizer1,axes_label=False,title=\"Mosaic plot : Survival vs Gender\")\n",
    "plt.xlabel(\"Sex\")\n",
    "plt.ylabel(\"Survival\")\n",
    "plt.show()"
   ]
  },
  {
   "cell_type": "markdown",
   "metadata": {},
   "source": [
    "Mosaic plot is one of the ways to explore relation between categorical variables.\n",
    "\n",
    "From the above plot following points can be noted:\n",
    "- Total number of males is more than total number of females.\n",
    "- Proportion of male who survived is less than proportion of female who survived. This visual observation will be tested using Hypothesis Testing."
   ]
  },
  {
   "cell_type": "markdown",
   "metadata": {
    "collapsed": true
   },
   "source": [
    "### Mosaic Plot for Passenger Class and Survival"
   ]
  },
  {
   "cell_type": "code",
   "execution_count": 70,
   "metadata": {
    "collapsed": false
   },
   "outputs": [
    {
     "data": {
      "image/png": "[encoded data removed]",
      "text/plain": [
       "<matplotlib.figure.Figure at 0x16da54756a0>"
      ]
     },
     "metadata": {},
     "output_type": "display_data"
    }
   ],
   "source": [
    "labelizer2 = lambda k: {('1','1'):\"Class-1 , Survived\",('1','0'):\"Class-1 , Died\",('2','1'):\"Class-2,Survived\",('2','0'):\"Class-2,Died\",('3','1'):\"Class-3 , Survived\",('3','0'):\"Class-3 , Died\"}[k]\n",
    "stat.mosaic(titanic,['Pclass','Survived'],labelizer = labelizer2,axes_label=False, title=\"Mosaic plot: Survival vs Class\")\n",
    "plt.xlabel(\"Passenger Class\")\n",
    "plt.ylabel(\"Survival\")\n",
    "plt.show()"
   ]
  },
  {
   "cell_type": "markdown",
   "metadata": {},
   "source": [
    "From the above plot following points can be noted:\n",
    "- Total number of passengers traveling in class 3 is maximum. It is difficult to visually determine if more passengers are travelling in class 1 or in class 2. However, it appears that more passengers are travelling in class 1 than in class 2.\n",
    "\n",
    "- Proportion of passengers who survived while traveling in class 1 and class 2 is considerably more than proportion of people who survived in class 3. It is also visible that proportion of people who survived in class 1 is more than that of class 2."
   ]
  },
  {
   "cell_type": "markdown",
   "metadata": {},
   "source": [
    "### Stacked Histogram : Distribution of Number of Relatives and Proportion of Survival"
   ]
  },
  {
   "cell_type": "code",
   "execution_count": 72,
   "metadata": {
    "collapsed": false
   },
   "outputs": [
    {
     "data": {
      "image/png": "[encoded data removed]",
      "text/plain": [
       "<matplotlib.figure.Figure at 0x16da57853c8>"
      ]
     },
     "metadata": {},
     "output_type": "display_data"
    }
   ],
   "source": [
    "titanic[\"relatives\"] = titanic[\"SibSp\"] + titanic[\"Parch\"]\n",
    "survived = titanic[titanic[\"Survived\"]==\"1\"][\"relatives\"]\n",
    "N_survived = titanic[titanic[\"Survived\"]==\"0\"][\"relatives\"]\n",
    "\n",
    "histo=plt.figure(1,figsize=(10,10))\n",
    "px=histo.add_subplot(111)\n",
    "hg=px.hist([survived,N_survived], stacked=True, bins=10,color=[\"r\",\"b\"],label=[\"Survived\",\"Did not Survive\"])\n",
    "px.axis([0,11,0,600])\n",
    "px.set_title('Distribution of number of relatives and proportion of survival')\n",
    "px.set_xlabel(\"Number of Relatives\")\n",
    "px.set_ylabel(\"Number of Passangers\")\n",
    "plt.legend()\n",
    "plt.show()\n",
    "\n"
   ]
  },
  {
   "cell_type": "markdown",
   "metadata": {},
   "source": [
    "New variable called `relatives` is formed by adding `SibSp` and `Parch`. This gives us total number of relatives of the traveler aboard. Number of relatives is considered as a continous variable for plotting the histogram. We can see that the distribution has a positive skew. It is not clear that there is a variation is the proportion of survival. Even if there is some variable, further analysis is required to ascertain that proportion significantly varies with number of relatives. \n",
    "\n",
    "Let us plot Boxplot to see the distribution of relatives based on Survival."
   ]
  },
  {
   "cell_type": "markdown",
   "metadata": {},
   "source": [
    "### Parallel BoxPlot : Distribution of number of relatives based on Survival"
   ]
  },
  {
   "cell_type": "code",
   "execution_count": 73,
   "metadata": {
    "collapsed": false
   },
   "outputs": [
    {
     "data": {
      "image/png": "[encoded data removed]",
      "text/plain": [
       "<matplotlib.figure.Figure at 0x16da546cc18>"
      ]
     },
     "metadata": {},
     "output_type": "display_data"
    }
   ],
   "source": [
    "survived_pass=titanic[(titanic[\"relatives\"].notnull()) & (titanic[\"Survived\"]==\"1\")]\n",
    "N_survived_pass=titanic[(titanic[\"relatives\"].notnull()) & (titanic[\"Survived\"]==\"0\")]\n",
    "data_to_plt=[survived_pass[\"relatives\"],N_survived_pass[\"relatives\"]]\n",
    "\n",
    "# Create a figure instance\n",
    "fig = plt.figure(1,figsize=(10,10))\n",
    "\n",
    "# Create an axes instance\n",
    "ax = fig.add_subplot(111)\n",
    "\n",
    "# Create the boxplot\n",
    "bp = ax.boxplot(data_to_plot)\n",
    "\n",
    "ax.set_title('Distribution of number of relatives based on Survival')\n",
    "ax.set_xlabel('Survival Status')\n",
    "ax.set_ylabel('Number of Relatives')\n",
    "\n",
    "ax.set_xticklabels(['Survived', 'Not Survived'])\n",
    "\n",
    "plt.show()"
   ]
  },
  {
   "cell_type": "markdown",
   "metadata": {},
   "source": [
    "It can be seen that there is no difference in survival status based on the number of relatives that person has aboard.WE can conclude this because people who survived and that who could not survive has similar distribution and similar variance."
   ]
  },
  {
   "cell_type": "markdown",
   "metadata": {},
   "source": [
    "### Parallel BoxPlot: Distribution of Age based on Survival"
   ]
  },
  {
   "cell_type": "code",
   "execution_count": 75,
   "metadata": {
    "collapsed": false,
    "scrolled": false
   },
   "outputs": [
    {
     "data": {
      "image/png": "[encoded data removed]",
      "text/plain": [
       "<matplotlib.figure.Figure at 0x16da2abbcc0>"
      ]
     },
     "metadata": {},
     "output_type": "display_data"
    }
   ],
   "source": [
    "survived_age = titanic[(titanic[\"Age\"].notnull()) & (titanic[\"Survived\"]==\"1\")]\n",
    "N_survived_age = titanic[(titanic[\"Age\"].notnull()) & (titanic[\"Survived\"]==\"0\")]\n",
    "data_to_plot = [survived_age[\"Age\"],N_survived_age[\"Age\"]]\n",
    "\n",
    "\n",
    "# Create a figure instance\n",
    "fig = plt.figure(1,figsize=(10,10))\n",
    "\n",
    "# Create an axes instance\n",
    "ax = fig.add_subplot(111)\n",
    "\n",
    "# Create the boxplot\n",
    "bp = ax.boxplot(data_to_plot)\n",
    "\n",
    "ax.set_xticklabels(['Survived', 'Not Survived'])\n",
    "ax.set_title('Distribution of Age based on Survival')\n",
    "ax.set_xlabel('Survival Status')\n",
    "ax.set_ylabel('Age')\n",
    "plt.show()"
   ]
  },
  {
   "cell_type": "markdown",
   "metadata": {},
   "source": [
    "Parallel Box Plot is appropriate when we want to compare the distribution of two categories over a single continous variable. Here we want to compare how is survival distributed over the age variable. \n",
    "\n",
    "From the above box plot, we can see that there is no considerable difference between distribution of age of people who could survive and who could not. In other words, age does not have considerable effect on survival of passengers. This can be tested using Statistical Testing Methods.\n",
    "\n",
    "From predictive modeling perspective, we can say that age does not have any predictive power and might not be the appropriate feature for modeling."
   ]
  },
  {
   "cell_type": "markdown",
   "metadata": {
    "collapsed": true
   },
   "source": [
    "## Statistical Analysis"
   ]
  },
  {
   "cell_type": "markdown",
   "metadata": {
    "collapsed": false
   },
   "source": [
    "We have explored the data visually to answer the questions that have been posed earlier. Visual exploration are helpful to get the insights on the data. But they are not the right tool to derive inference. Thus, inference tests are needed to be performed. Following tests will be performed:\n",
    "- Test of proportion to determine if there is the significant difference in the proportion of survived male and survived female.\n",
    "- Chi Square goodness of fit test to determine if there is the significant difference in the proportion of survived male and survived female.\n",
    "- Chi Square goodness of fit test to determine if there is the significant difference in the proportion of people who survived while traveling in class 1, proportion of people who survived while traveling in class 2,proportion of people who survived while traveling in class 3.\n",
    "\n",
    "Further, decision tree will be used to model the relation between passenger class and the survival status."
   ]
  },
  {
   "cell_type": "markdown",
   "metadata": {
    "collapsed": true
   },
   "source": [
    "### Test of Proportion : Z - test"
   ]
  },
  {
   "cell_type": "markdown",
   "metadata": {},
   "source": [
    "Test of Proportion can be used to determine if there is a significant difference between two proportions.\n",
    "\n",
    "Null Hypothesis $H_0$ : There is no significant difference between proportion of male $p_{male}$ that survived and proportion of female $p_{female}$ that survived.\n",
    "\n",
    "Alternative Hypothesis $H_A$ : There is a significant difference between proportion of male that survived and proportion of female that survived.\n",
    "\n",
    "$H_0$ : $p_{male} = p_{female}$\n",
    "\n",
    "$H_A$ : $p_{male} \\neq p_{female}$\n"
   ]
  },
  {
   "cell_type": "code",
   "execution_count": 308,
   "metadata": {
    "collapsed": false
   },
   "outputs": [
    {
     "name": "stdout",
     "output_type": "stream",
     "text": [
      "-244.1432220693172\n"
     ]
    }
   ],
   "source": [
    "#Calculate of total males, total females and total number of passengers traveling\n",
    "total_males = len(titanic[titanic[\"Sex\"]==\"male\"])\n",
    "total_females = len(titanic[titanic[\"Sex\"]==\"female\"])\n",
    "total_travelrs = total_males + total_females\n",
    "\n",
    "#Calculation of Overall Survival Proportion, Proportion of Male Survive and Proportion of Female Survived\n",
    "survival_prop = len(titanic[titanic[\"Survived\"]==\"1\"])/total_travelrs\n",
    "survived_males=len(titanic[(titanic[\"Sex\"]==\"male\") & (titanic[\"Survived\"]==\"1\")])\n",
    "survived_females=len(titanic[(titanic[\"Sex\"]==\"female\") & (titanic[\"Survived\"]==\"1\")])\n",
    "prop_m_survived = survived_males/total_males\n",
    "prop_f_survived = survived_females/total_females\n",
    "\n",
    "#Calculation of Test Statistic\n",
    "prop_hat = (prop_m_survived + prop_f_survived) / (total_males+total_females)\n",
    "test_statistic = ((prop_m_survived - prop_f_survived) - 0)/math.sqrt(prop_hat*(1-prop_hat)*((1/total_males)+(1/total_females)))\n",
    "print(test_statistic)"
   ]
  },
  {
   "cell_type": "markdown",
   "metadata": {},
   "source": [
    "Our Test Statistic is -244.14 which is below critical value if -1.96. Thus, we reject the Null Hypothesis.\n",
    "\n",
    "Thus, there is a significant difference between proportion of male who survived and proportion of female who survived"
   ]
  },
  {
   "cell_type": "markdown",
   "metadata": {},
   "source": [
    "### Chi Square Goodness of Fit :"
   ]
  },
  {
   "cell_type": "markdown",
   "metadata": {},
   "source": [
    "Our hypothesis remains same as above. Chi Square Goodness of Fit is another statistical test performed to confirm the result we obtained above."
   ]
  },
  {
   "cell_type": "code",
   "execution_count": 309,
   "metadata": {
    "collapsed": false
   },
   "outputs": [
    {
     "name": "stdout",
     "output_type": "stream",
     "text": [
      "3.84145882069\n"
     ]
    },
    {
     "data": {
      "text/plain": [
       "Power_divergenceResult(statistic=340.14283691511071, pvalue=5.9396831972092382e-76)"
      ]
     },
     "execution_count": 309,
     "metadata": {},
     "output_type": "execute_result"
    }
   ],
   "source": [
    "expected_males = survival_prop * total_males\n",
    "array_observed = [prop_m_survived,prop_f_survived]\n",
    "\n",
    "expected_females = survival_prop * total_females\n",
    "array_expected = [expected_males,expected_females]\n",
    "\n",
    "crit = stats.chi2.ppf(q = 0.95, df = 1)   \n",
    "print(crit)\n",
    "stats.chisquare(f_obs=array_observed,f_exp=array_expected)\n",
    "\n"
   ]
  },
  {
   "cell_type": "markdown",
   "metadata": {},
   "source": [
    "We can see that test statistic is 340 which is greater than critical value of 3.84. We can reject the Null Hypothesis. "
   ]
  },
  {
   "cell_type": "markdown",
   "metadata": {},
   "source": [
    "### Chi Square Goodness of Fit :"
   ]
  },
  {
   "cell_type": "markdown",
   "metadata": {},
   "source": [
    "Chi Square Goodness of Fit can be used to determine if there is a significant difference between two proportions.\n",
    "\n",
    "Null Hypothesis $H_0$ : There is no significant difference between proportion of passangers survived while traveling in class 1,proportion of passangers survived while traveling in class 2,proportion of passangers survived while traveling in class 3.\n",
    "\n",
    "Alternative Hypothesis $H_A$ : There is a significant difference between proportion of passangers survived while traveling in class 1,proportion of passangers survived while traveling in class 2,proportion of passangers survived while traveling in class 3.\n"
   ]
  },
  {
   "cell_type": "code",
   "execution_count": 269,
   "metadata": {
    "collapsed": false
   },
   "outputs": [
    {
     "name": "stdout",
     "output_type": "stream",
     "text": [
      "3.84145882069\n"
     ]
    },
    {
     "data": {
      "text/plain": [
       "Power_divergenceResult(statistic=63.396245597723173, pvalue=1.7126955990497913e-14)"
      ]
     },
     "execution_count": 269,
     "metadata": {},
     "output_type": "execute_result"
    }
   ],
   "source": [
    "nos_1 =len(titanic[titanic[\"Pclass\"]==\"1\"])\n",
    "nos_2 =len(titanic[titanic[\"Pclass\"]==\"2\"])\n",
    "nos_3 =len(titanic[titanic[\"Pclass\"]==\"3\"])\n",
    "nos_1_s = len(titanic[(titanic[\"Pclass\"]==\"1\") & (titanic[\"Survived\"]==\"1\")])\n",
    "nos_2_s =len(titanic[(titanic[\"Pclass\"]==\"2\") & (titanic[\"Survived\"]==\"1\")])\n",
    "nos_3_s=len(titanic[(titanic[\"Pclass\"]==\"3\") & (titanic[\"Survived\"]==\"1\")])\n",
    "nos_1_exp = survival_prop * nos_1\n",
    "nos_2_exp = survival_prop * nos_2\n",
    "nos_3_exp = survival_prop * nos_3\n",
    "array_exp = [nos_1_exp,nos_2_exp,nos_3_exp]\n",
    "array_obs = [nos_1_s,nos_2_s,nos_3_s]\n",
    "\n",
    "\n",
    "print(crit)\n",
    "stats.chisquare(f_obs=array_obs,f_exp=array_exp)"
   ]
  },
  {
   "cell_type": "markdown",
   "metadata": {},
   "source": [
    "We can see that test statistic is 63 which is greater than critical value of 3.84. We can reject the Null Hypothesis. Thus, there is a significant difference between the survival rate of people depending upon the class in which they were travelling."
   ]
  },
  {
   "cell_type": "markdown",
   "metadata": {},
   "source": [
    "### Decision Tree used as classifier:"
   ]
  },
  {
   "cell_type": "markdown",
   "metadata": {},
   "source": [
    "Following code splits the dataset into training and testing sets,fits the decision tree model using trainging data, predicts the survival status and calculates the accuracy. Accuracy is found to be 70%. We need to test more algorithms to choose the correct one. This shall be done in subsequent iterations of the project."
   ]
  },
  {
   "cell_type": "code",
   "execution_count": 79,
   "metadata": {
    "collapsed": false
   },
   "outputs": [
    {
     "data": {
      "text/plain": [
       "0.70852017937219736"
      ]
     },
     "execution_count": 79,
     "metadata": {},
     "output_type": "execute_result"
    }
   ],
   "source": [
    "from sklearn.model_selection import train_test_split\n",
    "from sklearn.metrics import accuracy_score\n",
    "train_set,test_set = train_test_split(titanic,test_size=0.25)\n",
    "from sklearn import tree\n",
    "clf=tree.DecisionTreeClassifier()\n",
    "X=np.array(train_set[\"Pclass\"])\n",
    "X=X[:,None]\n",
    "Y=train_set[\"Survived\"]\n",
    "X_t=np.array(test_set[\"Pclass\"])\n",
    "X_t=X_t[:,None]\n",
    "Y_t=test_set[\"Survived\"]\n",
    "clf_fit=clf.fit(X,Y)\n",
    "clf_pred=clf.predict(X_t)\n",
    "accuracy_score(Y_t,clf_pred)"
   ]
  },
  {
   "cell_type": "markdown",
   "metadata": {},
   "source": [
    "### Answers to questions posed"
   ]
  },
  {
   "cell_type": "markdown",
   "metadata": {},
   "source": [
    "  - Yes. Survival depends upon the gender of the passenger. In fact, proportion of survival of females is more than that of males.\n",
    "  - Yes. Survival depends upon the class in which the passenger was travelling. \n",
    "  - Stacked histogram did not help us conclude anything clearly. However, from boxplot we can conclude with resonable confidence that survival is not affected by number of relatives aboard.\n",
    "  - Age does not appear to be related to survival. This is evident from the visual distribution.\n",
    "  \n",
    "It is important to note that relationship between survival and age and that between survival and number of relatives has been explored visually. Further statistical test might be required to acertain the conclusion.\n",
    "\n",
    "It is also important to note that missing values have been completely ignored. \n",
    "\n",
    "Decision Tree has a accuracy of only 70%. This certainly requires further improvement. It would be interesting to try various models and see which one performs well. Also, it would also be interesting to fine tune these models further to get the better accuracy.\n",
    " "
   ]
  },
  {
   "cell_type": "markdown",
   "metadata": {},
   "source": [
    "### References"
   ]
  },
  {
   "cell_type": "markdown",
   "metadata": {},
   "source": [
    "    1) Data Visualization : Choosing a right figure type. ( https://www.cscu.cornell.edu/news/statnews/stnews89.pdf)\n",
    "    2) Mosaic Plot in Python(http://statsmodels.sourceforge.net/0.6.0/generated/statsmodels.graphics.mosaicplot.mosaic.html)\n",
    "    3) Comparing Two Proportions : https://onlinecourses.science.psu.edu/stat414/node/268\n",
    "    4) Decision Trees (http://scikit-learn.org/stable/modules/tree.html)\n",
    "    5) Datacamp.com\n",
    "    6) Matplotlib : Text (https://matplotlib.org/users/text_intro.html)"
   ]
  }
 ],
 "metadata": {
  "anaconda-cloud": {},
  "kernelspec": {
   "display_name": "Python 3",
   "language": "python",
   "name": "python3"
  },
  "language_info": {
   "codemirror_mode": {
    "name": "ipython",
    "version": 3
   },
   "file_extension": ".py",
   "mimetype": "text/x-python",
   "name": "python",
   "nbconvert_exporter": "python",
   "pygments_lexer": "ipython3",
   "version": "3.6.0"
  }
 },
 "nbformat": 4,
 "nbformat_minor": 2
}
